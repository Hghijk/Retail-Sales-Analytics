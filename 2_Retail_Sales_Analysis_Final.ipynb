{
 "cells": [
  {
   "cell_type": "markdown",
   "id": "30196980",
   "metadata": {},
   "source": [
    "# Retail Sales Analysis (Final)\n",
    "**Author:** Manne Hari Chandana\n",
    "\n",
    "**Tools:** Python, Pandas, Matplotlib, Seaborn\n"
   ]
  },
  {
   "cell_type": "code",
   "execution_count": null,
   "id": "d94d6c48",
   "metadata": {},
   "outputs": [],
   "source": [
    "\n",
    "import pandas as pd\n",
    "import numpy as np\n",
    "import matplotlib.pyplot as plt\n",
    "import seaborn as sns\n",
    "%matplotlib inline\n",
    "sns.set(style='whitegrid')\n",
    "plt.rcParams['figure.figsize'] = (10,6)\n"
   ]
  },
  {
   "cell_type": "code",
   "execution_count": null,
   "id": "bba6e778",
   "metadata": {},
   "outputs": [],
   "source": [
    "# Load cleaned data\n",
    "df = pd.read_csv(\"/mnt/data/cleaned_sales_data.csv\", encoding=\"ISO-8859-1\")\n",
    "df.columns = [c.strip().upper() for c in df.columns]\n",
    "df['ORDERDATE'] = pd.to_datetime(df['ORDERDATE'], errors='coerce')\n",
    "df.dropna(subset=['QUANTITYORDERED','PRICEEACH','SALES','ORDERDATE'], inplace=True)\n",
    "df['MONTH'] = df['ORDERDATE'].dt.to_period('M').astype(str)\n",
    "print('Loaded rows:', len(df))\n",
    "df.head()"
   ]
  },
  {
   "cell_type": "code",
   "execution_count": null,
   "id": "c9ca217d",
   "metadata": {},
   "outputs": [],
   "source": [
    "\n",
    "# KPIs\n",
    "total_revenue = df['SALES'].sum()\n",
    "total_orders = df['ORDERNUMBER'].nunique() if 'ORDERNUMBER' in df.columns else df.shape[0]\n",
    "total_customers = df['CUSTOMERNAME'].nunique() if 'CUSTOMERNAME' in df.columns else df['CUSTOMERID'].nunique()\n",
    "print(f\"Total Revenue: ${total_revenue:,.2f}\")\n",
    "print(\"Total Orders:\", total_orders)\n",
    "print(\"Total Customers:\", total_customers)"
   ]
  },
  {
   "cell_type": "code",
   "execution_count": null,
   "id": "0fff4774",
   "metadata": {},
   "outputs": [],
   "source": [
    "\n",
    "# Top Revenue Product Lines\n",
    "top_products = df.groupby('PRODUCTLINE')['SALES'].sum().sort_values(ascending=False).head(10)\n",
    "top_products.plot(kind='bar', color=['#2f6f9f','#4f9fcf','#7fbfe0','#2b4f67','#6b93ad','#9bb9d6','#bfd9ee'])\n",
    "plt.title('Top Revenue Product Lines')\n",
    "plt.xlabel('Product Line')\n",
    "plt.ylabel('Revenue ($)')\n",
    "plt.xticks(rotation=45)\n",
    "plt.tight_layout()"
   ]
  },
  {
   "cell_type": "code",
   "execution_count": null,
   "id": "07ce3ee1",
   "metadata": {},
   "outputs": [],
   "source": [
    "\n",
    "# Revenue by Country (Top 15)\n",
    "country_rev = df.groupby('COUNTRY')['SALES'].sum().sort_values(ascending=False).head(15)\n",
    "country_rev.plot(kind='bar', color='#4f9fcf')\n",
    "plt.title('Revenue by Country')\n",
    "plt.xlabel('Country')\n",
    "plt.ylabel('Revenue ($)')\n",
    "plt.xticks(rotation=45)\n",
    "plt.tight_layout()"
   ]
  },
  {
   "cell_type": "code",
   "execution_count": null,
   "id": "22463e25",
   "metadata": {},
   "outputs": [],
   "source": [
    "\n",
    "# Monthly Sales Trend\n",
    "month_rev = df.groupby('MONTH')['SALES'].sum().reset_index()\n",
    "month_rev['MONTH'] = pd.to_datetime(month_rev['MONTH'])\n",
    "month_rev = month_rev.sort_values('MONTH')\n",
    "plt.plot(month_rev['MONTH'], month_rev['SALES'], marker='o', color='#2f6f9f')\n",
    "plt.title('Monthly Sales Trend')\n",
    "plt.xlabel('Month')\n",
    "plt.ylabel('Revenue ($)')\n",
    "plt.xticks(rotation=45)\n",
    "plt.tight_layout()"
   ]
  },
  {
   "cell_type": "code",
   "execution_count": null,
   "id": "e74dad08",
   "metadata": {},
   "outputs": [],
   "source": [
    "\n",
    "# Top 10 Customers by Revenue\n",
    "cust_rev = df.groupby('CUSTOMERNAME')['SALES'].sum().sort_values(ascending=False).head(10)\n",
    "cust_rev.plot(kind='barh', color='#6b93ad')\n",
    "plt.title('Top 10 Customers by Revenue')\n",
    "plt.xlabel('Revenue ($)')\n",
    "plt.tight_layout()"
   ]
  },
  {
   "cell_type": "markdown",
   "id": "b7fec4bc",
   "metadata": {},
   "source": [
    "\n",
    "## Key Insights\n",
    "- Classic Cars is the top revenue-generating product line.\n",
    "- USA is the highest revenue country, followed by Spain and France.\n",
    "- Seasonal peaks observed in Q4 indicate holiday-driven increases.\n",
    "- Top customers contribute a significant portion of revenue; consider diversification.\n"
   ]
  },
  {
   "cell_type": "code",
   "execution_count": null,
   "id": "6b0392ac",
   "metadata": {},
   "outputs": [],
   "source": [
    "# Save cleaned dataset for dashboard tools\n",
    "df.to_csv('/mnt/data/cleaned_sales_data.csv', index=False)\n",
    "print('Cleaned file saved to /mnt/data/cleaned_sales_data.csv')"
   ]
  }
 ],
 "metadata": {},
 "nbformat": 4,
 "nbformat_minor": 5
}
